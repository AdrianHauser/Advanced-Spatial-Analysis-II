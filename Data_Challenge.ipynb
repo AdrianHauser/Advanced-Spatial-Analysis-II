{
 "cells": [
  {
   "cell_type": "markdown",
   "source": [
    "# Advanced Spatial Analyis II - Data Challenge\n",
    "### Adrian Hauser 17-715-962"
   ],
   "metadata": {
    "collapsed": false
   }
  },
  {
   "cell_type": "code",
   "execution_count": 120,
   "metadata": {
    "collapsed": true
   },
   "outputs": [],
   "source": [
    "#Imports\n",
    "import pandas as pd\n",
    "import numpy as np\n",
    "import geopandas as gpd\n",
    "from datetime import datetime as dt\n",
    "from datetime import timedelta\n",
    "import geopy.distance\n",
    "from shapely.geometry import point\n"
   ]
  },
  {
   "cell_type": "code",
   "execution_count": 8,
   "outputs": [
    {
     "name": "stdout",
     "output_type": "stream",
     "text": [
      "tripduration                        int64\n",
      "starttime                  datetime64[ns]\n",
      "stoptime                   datetime64[ns]\n",
      "start station id                  float64\n",
      "start station name                 object\n",
      "start station latitude            float64\n",
      "start station longitude           float64\n",
      "end station id                    float64\n",
      "end station name                   object\n",
      "end station latitude              float64\n",
      "end station longitude             float64\n",
      "bikeid                              int64\n",
      "usertype                           object\n",
      "birth year                          int64\n",
      "gender                              int64\n",
      "dtype: object\n"
     ]
    }
   ],
   "source": [
    "# Import Data\n",
    "df = pd.read_csv(r\"C:\\Users\\adria\\Documents\\8_GEO_FS23\\GEO881_Advanced_Spatial_Analysis_II\\201903-citibike-tripdata.csv\")\n",
    "\n",
    "# Cast Date strings to datetime\n",
    "df.starttime = pd.to_datetime(df.starttime)\n",
    "df.stoptime = pd.to_datetime(df.stoptime)\n",
    "\n",
    "print(df.dtypes)\n"
   ],
   "metadata": {
    "collapsed": false
   }
  },
  {
   "cell_type": "code",
   "execution_count": 4,
   "outputs": [
    {
     "name": "stdout",
     "output_type": "stream",
     "text": [
      "1327960\n"
     ]
    }
   ],
   "source": [
    "# 1. How many tripy are reported in the date?\n",
    "\n",
    "print(len(df))"
   ],
   "metadata": {
    "collapsed": false
   }
  },
  {
   "cell_type": "code",
   "execution_count": 7,
   "outputs": [
    {
     "name": "stdout",
     "output_type": "stream",
     "text": [
      "00:00:00.236000\n"
     ]
    }
   ],
   "source": [
    "# 2. What is the earliest time of the day any trip starts?\n",
    "\n",
    "print(min(df.starttime.dt.time))"
   ],
   "metadata": {
    "collapsed": false
   }
  },
  {
   "cell_type": "code",
   "execution_count": 32,
   "outputs": [
    {
     "data": {
      "text/plain": "773"
     },
     "execution_count": 32,
     "metadata": {},
     "output_type": "execute_result"
    }
   ],
   "source": [
    "# 3. How many stations are used?\n",
    "df_station = pd.concat([df['start station id'], df['end station id']])\n",
    "df_station.nunique()"
   ],
   "metadata": {
    "collapsed": false
   }
  },
  {
   "cell_type": "code",
   "execution_count": 34,
   "outputs": [
    {
     "data": {
      "text/plain": "42837.41935483871"
     },
     "execution_count": 34,
     "metadata": {},
     "output_type": "execute_result"
    }
   ],
   "source": [
    "# 4. What is the mean number of trips per day?\n",
    "df.groupby(df.starttime.dt.day).size().mean()\n"
   ],
   "metadata": {
    "collapsed": false
   }
  },
  {
   "cell_type": "code",
   "execution_count": 40,
   "outputs": [
    {
     "data": {
      "text/plain": "32406.8"
     },
     "execution_count": 40,
     "metadata": {},
     "output_type": "execute_result"
    }
   ],
   "source": [
    "# 5. What ist the mean number of trips on Sundays?\n",
    "df_sunday = df[df.starttime.dt.dayofweek == 6]\n",
    "df_sunday.groupby(df_sunday.starttime.dt.day).size().mean()"
   ],
   "metadata": {
    "collapsed": false
   }
  },
  {
   "cell_type": "code",
   "execution_count": 48,
   "outputs": [
    {
     "name": "stdout",
     "output_type": "stream",
     "text": [
      "2019-03-30\n"
     ]
    }
   ],
   "source": [
    "# 6. On which day did most trips start?\n",
    "\n",
    "df_trips = df.groupby(df.starttime.dt.date).size().idxmax()\n",
    "print(df_trips)"
   ],
   "metadata": {
    "collapsed": false
   }
  },
  {
   "cell_type": "code",
   "execution_count": 82,
   "outputs": [
    {
     "data": {
      "text/plain": "23162"
     },
     "execution_count": 82,
     "metadata": {},
     "output_type": "execute_result"
    }
   ],
   "source": [
    "# How many trips did start that day\n",
    "\n",
    "# Get the subset on the specific day\n",
    "df_most_trips = df[df.starttime.dt.date == df_trips]\n",
    "\n",
    "# Set starttime to index to use .between_time()\n",
    "df_most_trips.set_index('starttime', inplace=True)\n",
    "len(df_most_trips.between_time(start_time='11:00', end_time='15:00'))"
   ],
   "metadata": {
    "collapsed": false
   }
  },
  {
   "cell_type": "code",
   "execution_count": 99,
   "outputs": [
    {
     "data": {
      "text/plain": "'34 days, 8:56:21'"
     },
     "execution_count": 99,
     "metadata": {},
     "output_type": "execute_result"
    }
   ],
   "source": [
    "# What is the duration of the longest trip?\n",
    "\n",
    "str(timedelta(seconds=max(df.tripduration)))"
   ],
   "metadata": {
    "collapsed": false
   }
  },
  {
   "cell_type": "code",
   "execution_count": 101,
   "outputs": [
    {
     "data": {
      "text/plain": "'0:52:11'"
     },
     "execution_count": 101,
     "metadata": {},
     "output_type": "execute_result"
    }
   ],
   "source": [
    "# 9. What is the 99% quantile of trip durations\n",
    "\n",
    "str(timedelta(seconds=df.tripduration.quantile(q= 0.99)))"
   ],
   "metadata": {
    "collapsed": false
   }
  },
  {
   "cell_type": "code",
   "execution_count": 109,
   "outputs": [
    {
     "data": {
      "text/plain": "<AxesSubplot: ylabel='Frequency'>"
     },
     "execution_count": 109,
     "metadata": {},
     "output_type": "execute_result"
    },
    {
     "data": {
      "text/plain": "<Figure size 640x480 with 1 Axes>",
      "image/png": "[encoded data removed]"
     },
     "metadata": {},
     "output_type": "display_data"
    }
   ],
   "source": [
    "df_shorter = df[df.tripduration/60 <= 45]['tripduration']/60\n",
    "df_shorter.plot.hist(bins=100, x)\n"
   ],
   "metadata": {
    "collapsed": false
   }
  },
  {
   "cell_type": "code",
   "execution_count": 132,
   "outputs": [],
   "source": [
    "# What is the median beeline distance travelled\n",
    "\n",
    "df['start_coordinate'] = list(zip(df['start station longitude'], df['start station latitude']))\n",
    "df['end_coordinate'] = list(zip(df['end station longitude'], df['end station latitude']))\n",
    "\n",
    "def distancer(row):\n",
    "    coords_1 = (row['start_coordinate'])\n",
    "    coords_2 = (row['end_coordinate'])\n",
    "    return geopy.distance.geodesic(coords_1, coords_2).km\n",
    "\n",
    "df['distance'] = df.apply(distancer, axis=1)"
   ],
   "metadata": {
    "collapsed": false
   }
  },
  {
   "cell_type": "code",
   "execution_count": 133,
   "outputs": [
    {
     "ename": "ValueError",
     "evalue": "When creating a Point from sequence, it must not have more than 3 items.",
     "output_type": "error",
     "traceback": [
      "\u001B[1;31m---------------------------------------------------------------------------\u001B[0m",
      "\u001B[1;31mValueError\u001B[0m                                Traceback (most recent call last)",
      "Cell \u001B[1;32mIn[133], line 1\u001B[0m\n\u001B[1;32m----> 1\u001B[0m df[\u001B[38;5;124m'\u001B[39m\u001B[38;5;124mdistance\u001B[39m\u001B[38;5;124m'\u001B[39m] \u001B[38;5;241m=\u001B[39m \u001B[43mgeopy\u001B[49m\u001B[38;5;241;43m.\u001B[39;49m\u001B[43mdistance\u001B[49m\u001B[38;5;241;43m.\u001B[39;49m\u001B[43mgeodesic\u001B[49m\u001B[43m(\u001B[49m\u001B[43mdf\u001B[49m\u001B[38;5;241;43m.\u001B[39;49m\u001B[43mstart_coordinate\u001B[49m\u001B[43m,\u001B[49m\u001B[43mdf\u001B[49m\u001B[38;5;241;43m.\u001B[39;49m\u001B[43mend_coordinate\u001B[49m\u001B[43m)\u001B[49m\u001B[38;5;241m.\u001B[39mkm\n",
      "File \u001B[1;32m~\\anaconda3\\envs\\Advanced-Spatial-Analysis-II\\lib\\site-packages\\geopy\\distance.py:540\u001B[0m, in \u001B[0;36mgeodesic.__init__\u001B[1;34m(self, *args, **kwargs)\u001B[0m\n\u001B[0;32m    538\u001B[0m \u001B[38;5;28mself\u001B[39m\u001B[38;5;241m.\u001B[39mset_ellipsoid(kwargs\u001B[38;5;241m.\u001B[39mpop(\u001B[38;5;124m'\u001B[39m\u001B[38;5;124mellipsoid\u001B[39m\u001B[38;5;124m'\u001B[39m, \u001B[38;5;124m'\u001B[39m\u001B[38;5;124mWGS-84\u001B[39m\u001B[38;5;124m'\u001B[39m))\n\u001B[0;32m    539\u001B[0m major, minor, f \u001B[38;5;241m=\u001B[39m \u001B[38;5;28mself\u001B[39m\u001B[38;5;241m.\u001B[39mELLIPSOID\n\u001B[1;32m--> 540\u001B[0m \u001B[38;5;28msuper\u001B[39m()\u001B[38;5;241m.\u001B[39m\u001B[38;5;21m__init__\u001B[39m(\u001B[38;5;241m*\u001B[39margs, \u001B[38;5;241m*\u001B[39m\u001B[38;5;241m*\u001B[39mkwargs)\n",
      "File \u001B[1;32m~\\anaconda3\\envs\\Advanced-Spatial-Analysis-II\\lib\\site-packages\\geopy\\distance.py:276\u001B[0m, in \u001B[0;36mDistance.__init__\u001B[1;34m(self, *args, **kwargs)\u001B[0m\n\u001B[0;32m    274\u001B[0m \u001B[38;5;28;01melif\u001B[39;00m \u001B[38;5;28mlen\u001B[39m(args) \u001B[38;5;241m>\u001B[39m \u001B[38;5;241m1\u001B[39m:\n\u001B[0;32m    275\u001B[0m     \u001B[38;5;28;01mfor\u001B[39;00m a, b \u001B[38;5;129;01min\u001B[39;00m util\u001B[38;5;241m.\u001B[39mpairwise(args):\n\u001B[1;32m--> 276\u001B[0m         kilometers \u001B[38;5;241m+\u001B[39m\u001B[38;5;241m=\u001B[39m \u001B[38;5;28;43mself\u001B[39;49m\u001B[38;5;241;43m.\u001B[39;49m\u001B[43mmeasure\u001B[49m\u001B[43m(\u001B[49m\u001B[43ma\u001B[49m\u001B[43m,\u001B[49m\u001B[43m \u001B[49m\u001B[43mb\u001B[49m\u001B[43m)\u001B[49m\n\u001B[0;32m    278\u001B[0m kilometers \u001B[38;5;241m+\u001B[39m\u001B[38;5;241m=\u001B[39m units\u001B[38;5;241m.\u001B[39mkilometers(\u001B[38;5;241m*\u001B[39m\u001B[38;5;241m*\u001B[39mkwargs)\n\u001B[0;32m    279\u001B[0m \u001B[38;5;28mself\u001B[39m\u001B[38;5;241m.\u001B[39m__kilometers \u001B[38;5;241m=\u001B[39m kilometers\n",
      "File \u001B[1;32m~\\anaconda3\\envs\\Advanced-Spatial-Analysis-II\\lib\\site-packages\\geopy\\distance.py:556\u001B[0m, in \u001B[0;36mgeodesic.measure\u001B[1;34m(self, a, b)\u001B[0m\n\u001B[0;32m    555\u001B[0m \u001B[38;5;28;01mdef\u001B[39;00m \u001B[38;5;21mmeasure\u001B[39m(\u001B[38;5;28mself\u001B[39m, a, b):\n\u001B[1;32m--> 556\u001B[0m     a, b \u001B[38;5;241m=\u001B[39m \u001B[43mPoint\u001B[49m\u001B[43m(\u001B[49m\u001B[43ma\u001B[49m\u001B[43m)\u001B[49m, Point(b)\n\u001B[0;32m    557\u001B[0m     _ensure_same_altitude(a, b)\n\u001B[0;32m    558\u001B[0m     lat1, lon1 \u001B[38;5;241m=\u001B[39m a\u001B[38;5;241m.\u001B[39mlatitude, a\u001B[38;5;241m.\u001B[39mlongitude\n",
      "File \u001B[1;32m~\\anaconda3\\envs\\Advanced-Spatial-Analysis-II\\lib\\site-packages\\geopy\\point.py:175\u001B[0m, in \u001B[0;36mPoint.__new__\u001B[1;34m(cls, latitude, longitude, altitude)\u001B[0m\n\u001B[0;32m    171\u001B[0m             \u001B[38;5;28;01mraise\u001B[39;00m \u001B[38;5;167;01mTypeError\u001B[39;00m(\n\u001B[0;32m    172\u001B[0m                 \u001B[38;5;124m\"\u001B[39m\u001B[38;5;124mFailed to create Point instance from \u001B[39m\u001B[38;5;132;01m%r\u001B[39;00m\u001B[38;5;124m.\u001B[39m\u001B[38;5;124m\"\u001B[39m \u001B[38;5;241m%\u001B[39m (arg,)\n\u001B[0;32m    173\u001B[0m             )\n\u001B[0;32m    174\u001B[0m         \u001B[38;5;28;01melse\u001B[39;00m:\n\u001B[1;32m--> 175\u001B[0m             \u001B[38;5;28;01mreturn\u001B[39;00m \u001B[38;5;28;43mcls\u001B[39;49m\u001B[38;5;241;43m.\u001B[39;49m\u001B[43mfrom_sequence\u001B[49m\u001B[43m(\u001B[49m\u001B[43mseq\u001B[49m\u001B[43m)\u001B[49m\n\u001B[0;32m    177\u001B[0m \u001B[38;5;28;01mif\u001B[39;00m single_arg:\n\u001B[0;32m    178\u001B[0m     \u001B[38;5;28;01mraise\u001B[39;00m \u001B[38;5;167;01mValueError\u001B[39;00m(\n\u001B[0;32m    179\u001B[0m         \u001B[38;5;124m'\u001B[39m\u001B[38;5;124mA single number has been passed to the Point \u001B[39m\u001B[38;5;124m'\u001B[39m\n\u001B[0;32m    180\u001B[0m         \u001B[38;5;124m'\u001B[39m\u001B[38;5;124mconstructor. This is probably a mistake, because \u001B[39m\u001B[38;5;124m'\u001B[39m\n\u001B[1;32m   (...)\u001B[0m\n\u001B[0;32m    184\u001B[0m         \u001B[38;5;124m'\u001B[39m\u001B[38;5;124mto get rid of this error.\u001B[39m\u001B[38;5;124m'\u001B[39m\n\u001B[0;32m    185\u001B[0m     )\n",
      "File \u001B[1;32m~\\anaconda3\\envs\\Advanced-Spatial-Analysis-II\\lib\\site-packages\\geopy\\point.py:470\u001B[0m, in \u001B[0;36mPoint.from_sequence\u001B[1;34m(cls, seq)\u001B[0m\n\u001B[0;32m    468\u001B[0m args \u001B[38;5;241m=\u001B[39m \u001B[38;5;28mtuple\u001B[39m(islice(seq, \u001B[38;5;241m4\u001B[39m))\n\u001B[0;32m    469\u001B[0m \u001B[38;5;28;01mif\u001B[39;00m \u001B[38;5;28mlen\u001B[39m(args) \u001B[38;5;241m>\u001B[39m \u001B[38;5;241m3\u001B[39m:\n\u001B[1;32m--> 470\u001B[0m     \u001B[38;5;28;01mraise\u001B[39;00m \u001B[38;5;167;01mValueError\u001B[39;00m(\u001B[38;5;124m'\u001B[39m\u001B[38;5;124mWhen creating a Point from sequence, it \u001B[39m\u001B[38;5;124m'\u001B[39m\n\u001B[0;32m    471\u001B[0m                      \u001B[38;5;124m'\u001B[39m\u001B[38;5;124mmust not have more than 3 items.\u001B[39m\u001B[38;5;124m'\u001B[39m)\n\u001B[0;32m    472\u001B[0m \u001B[38;5;28;01mreturn\u001B[39;00m \u001B[38;5;28mcls\u001B[39m(\u001B[38;5;241m*\u001B[39margs)\n",
      "\u001B[1;31mValueError\u001B[0m: When creating a Point from sequence, it must not have more than 3 items."
     ]
    }
   ],
   "source": [
    "df['distance'] = geopy.distance.geodesic(df.start_coordinate,df.end_coordinate).km"
   ],
   "metadata": {
    "collapsed": false
   }
  },
  {
   "cell_type": "code",
   "execution_count": 136,
   "outputs": [
    {
     "data": {
      "text/plain": "0.9921536149380566"
     },
     "execution_count": 136,
     "metadata": {},
     "output_type": "execute_result"
    }
   ],
   "source": [
    "df.distance.median()"
   ],
   "metadata": {
    "collapsed": false
   }
  },
  {
   "cell_type": "code",
   "execution_count": null,
   "outputs": [],
   "source": [],
   "metadata": {
    "collapsed": false
   }
  }
 ],
 "metadata": {
  "kernelspec": {
   "display_name": "Python 3",
   "language": "python",
   "name": "python3"
  },
  "language_info": {
   "codemirror_mode": {
    "name": "ipython",
    "version": 2
   },
   "file_extension": ".py",
   "mimetype": "text/x-python",
   "name": "python",
   "nbconvert_exporter": "python",
   "pygments_lexer": "ipython2",
   "version": "2.7.6"
  }
 },
 "nbformat": 4,
 "nbformat_minor": 0
}
